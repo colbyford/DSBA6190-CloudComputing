{
 "cells": [
  {
   "cell_type": "markdown",
   "id": "8a95fc2e-13d5-4575-95bd-09bd5499beac",
   "metadata": {},
   "source": [
    "# Machine Learning Lab - Automated ML in Azure ML Studio"
   ]
  },
  {
   "cell_type": "markdown",
   "id": "705ceea9-17a3-435b-98c9-a6379e1ad67f",
   "metadata": {},
   "source": [
    "## Get Workspace Info"
   ]
  },
  {
   "cell_type": "code",
   "execution_count": 6,
   "id": "a063f1ae-e15f-4e89-a430-353ed337307e",
   "metadata": {
    "tags": []
   },
   "outputs": [],
   "source": [
    "# Import required libraries\n",
    "from azure.identity import DefaultAzureCredential\n",
    "from azure.ai.ml import MLClient\n",
    "\n",
    "from azure.ai.ml.constants import AssetTypes\n",
    "from azure.ai.ml import automl\n",
    "from azure.ai.ml import Input\n",
    "\n",
    "import pandas as pd"
   ]
  },
  {
   "cell_type": "code",
   "execution_count": 2,
   "id": "cc30a233-4262-430d-859f-9554f748936d",
   "metadata": {
    "tags": []
   },
   "outputs": [
    {
     "name": "stderr",
     "output_type": "stream",
     "text": [
      "Found the config file in: /config.json\n"
     ]
    }
   ],
   "source": [
    "credential = DefaultAzureCredential()\n",
    "ml_client = MLClient.from_config(credential)"
   ]
  },
  {
   "cell_type": "code",
   "execution_count": 3,
   "id": "58295813-37c9-46bd-9e47-a598d4659ffa",
   "metadata": {
    "tags": []
   },
   "outputs": [],
   "source": [
    "workspace = ml_client.workspaces.get(name=ml_client.workspace_name)"
   ]
  },
  {
   "cell_type": "markdown",
   "id": "115c8816-a6ba-4185-bd8e-2a6b971e6bd7",
   "metadata": {},
   "source": [
    "## Preview Yourr Flat File Data"
   ]
  },
  {
   "cell_type": "code",
   "execution_count": 7,
   "id": "cb8b58b7-468f-4853-8a13-4a775a791414",
   "metadata": {
    "tags": []
   },
   "outputs": [
    {
     "data": {
      "text/html": [
       "<div>\n",
       "<style scoped>\n",
       "    .dataframe tbody tr th:only-of-type {\n",
       "        vertical-align: middle;\n",
       "    }\n",
       "\n",
       "    .dataframe tbody tr th {\n",
       "        vertical-align: top;\n",
       "    }\n",
       "\n",
       "    .dataframe thead th {\n",
       "        text-align: right;\n",
       "    }\n",
       "</style>\n",
       "<table border=\"1\" class=\"dataframe\">\n",
       "  <thead>\n",
       "    <tr style=\"text-align: right;\">\n",
       "      <th></th>\n",
       "      <th>age</th>\n",
       "      <th>sex</th>\n",
       "      <th>bmi</th>\n",
       "      <th>bp</th>\n",
       "      <th>s1</th>\n",
       "      <th>s2</th>\n",
       "      <th>s3</th>\n",
       "      <th>s4</th>\n",
       "      <th>s5</th>\n",
       "      <th>s6</th>\n",
       "      <th>target</th>\n",
       "    </tr>\n",
       "  </thead>\n",
       "  <tbody>\n",
       "    <tr>\n",
       "      <th>0</th>\n",
       "      <td>0.038076</td>\n",
       "      <td>0.050680</td>\n",
       "      <td>0.061696</td>\n",
       "      <td>0.021872</td>\n",
       "      <td>-0.044223</td>\n",
       "      <td>-0.034821</td>\n",
       "      <td>-0.043401</td>\n",
       "      <td>-0.002592</td>\n",
       "      <td>0.019907</td>\n",
       "      <td>-0.017646</td>\n",
       "      <td>151.0</td>\n",
       "    </tr>\n",
       "    <tr>\n",
       "      <th>1</th>\n",
       "      <td>-0.001882</td>\n",
       "      <td>-0.044642</td>\n",
       "      <td>-0.051474</td>\n",
       "      <td>-0.026328</td>\n",
       "      <td>-0.008449</td>\n",
       "      <td>-0.019163</td>\n",
       "      <td>0.074412</td>\n",
       "      <td>-0.039493</td>\n",
       "      <td>-0.068332</td>\n",
       "      <td>-0.092204</td>\n",
       "      <td>75.0</td>\n",
       "    </tr>\n",
       "    <tr>\n",
       "      <th>2</th>\n",
       "      <td>0.085299</td>\n",
       "      <td>0.050680</td>\n",
       "      <td>0.044451</td>\n",
       "      <td>-0.005670</td>\n",
       "      <td>-0.045599</td>\n",
       "      <td>-0.034194</td>\n",
       "      <td>-0.032356</td>\n",
       "      <td>-0.002592</td>\n",
       "      <td>0.002861</td>\n",
       "      <td>-0.025930</td>\n",
       "      <td>141.0</td>\n",
       "    </tr>\n",
       "    <tr>\n",
       "      <th>3</th>\n",
       "      <td>-0.089063</td>\n",
       "      <td>-0.044642</td>\n",
       "      <td>-0.011595</td>\n",
       "      <td>-0.036656</td>\n",
       "      <td>0.012191</td>\n",
       "      <td>0.024991</td>\n",
       "      <td>-0.036038</td>\n",
       "      <td>0.034309</td>\n",
       "      <td>0.022688</td>\n",
       "      <td>-0.009362</td>\n",
       "      <td>206.0</td>\n",
       "    </tr>\n",
       "    <tr>\n",
       "      <th>4</th>\n",
       "      <td>0.005383</td>\n",
       "      <td>-0.044642</td>\n",
       "      <td>-0.036385</td>\n",
       "      <td>0.021872</td>\n",
       "      <td>0.003935</td>\n",
       "      <td>0.015596</td>\n",
       "      <td>0.008142</td>\n",
       "      <td>-0.002592</td>\n",
       "      <td>-0.031988</td>\n",
       "      <td>-0.046641</td>\n",
       "      <td>135.0</td>\n",
       "    </tr>\n",
       "  </tbody>\n",
       "</table>\n",
       "</div>"
      ],
      "text/plain": [
       "        age       sex       bmi        bp        s1        s2        s3  \\\n",
       "0  0.038076  0.050680  0.061696  0.021872 -0.044223 -0.034821 -0.043401   \n",
       "1 -0.001882 -0.044642 -0.051474 -0.026328 -0.008449 -0.019163  0.074412   \n",
       "2  0.085299  0.050680  0.044451 -0.005670 -0.045599 -0.034194 -0.032356   \n",
       "3 -0.089063 -0.044642 -0.011595 -0.036656  0.012191  0.024991 -0.036038   \n",
       "4  0.005383 -0.044642 -0.036385  0.021872  0.003935  0.015596  0.008142   \n",
       "\n",
       "         s4        s5        s6  target  \n",
       "0 -0.002592  0.019907 -0.017646   151.0  \n",
       "1 -0.039493 -0.068332 -0.092204    75.0  \n",
       "2 -0.002592  0.002861 -0.025930   141.0  \n",
       "3  0.034309  0.022688 -0.009362   206.0  \n",
       "4 -0.002592 -0.031988 -0.046641   135.0  "
      ]
     },
     "execution_count": 7,
     "metadata": {},
     "output_type": "execute_result"
    }
   ],
   "source": [
    "uri = \"azureml://subscriptions/e9bc187a-e9a1-46be-822e-e955a2563601/resourcegroups/rg-dsba6190-class-dev-eastus-001/workspaces/mls-dsba6190-class-dev-eastus-001/datastores/stodsba6190class/paths/instructor/diabetes.csv\"\n",
    "df = pd.read_csv(uri)\n",
    "df.head()"
   ]
  },
  {
   "cell_type": "markdown",
   "id": "29302422-e300-4bef-9ae2-fd8745f88044",
   "metadata": {},
   "source": [
    "## Create an MLTable Object"
   ]
  },
  {
   "cell_type": "code",
   "execution_count": 27,
   "id": "47fc0af2-d563-42ea-814c-5a46c3755fbc",
   "metadata": {
    "tags": []
   },
   "outputs": [
    {
     "data": {
      "text/html": [
       "<div>\n",
       "<style scoped>\n",
       "    .dataframe tbody tr th:only-of-type {\n",
       "        vertical-align: middle;\n",
       "    }\n",
       "\n",
       "    .dataframe tbody tr th {\n",
       "        vertical-align: top;\n",
       "    }\n",
       "\n",
       "    .dataframe thead th {\n",
       "        text-align: right;\n",
       "    }\n",
       "</style>\n",
       "<table border=\"1\" class=\"dataframe\">\n",
       "  <thead>\n",
       "    <tr style=\"text-align: right;\">\n",
       "      <th></th>\n",
       "      <th>age</th>\n",
       "      <th>sex</th>\n",
       "      <th>bmi</th>\n",
       "      <th>bp</th>\n",
       "      <th>s1</th>\n",
       "      <th>s2</th>\n",
       "      <th>s3</th>\n",
       "      <th>s4</th>\n",
       "      <th>s5</th>\n",
       "      <th>s6</th>\n",
       "      <th>target</th>\n",
       "    </tr>\n",
       "  </thead>\n",
       "  <tbody>\n",
       "    <tr>\n",
       "      <th>0</th>\n",
       "      <td>0.038076</td>\n",
       "      <td>0.050680</td>\n",
       "      <td>0.061696</td>\n",
       "      <td>0.021872</td>\n",
       "      <td>-0.044223</td>\n",
       "      <td>-0.034821</td>\n",
       "      <td>-0.043401</td>\n",
       "      <td>-0.002592</td>\n",
       "      <td>0.019907</td>\n",
       "      <td>-0.017646</td>\n",
       "      <td>151.0</td>\n",
       "    </tr>\n",
       "    <tr>\n",
       "      <th>1</th>\n",
       "      <td>-0.001882</td>\n",
       "      <td>-0.044642</td>\n",
       "      <td>-0.051474</td>\n",
       "      <td>-0.026328</td>\n",
       "      <td>-0.008449</td>\n",
       "      <td>-0.019163</td>\n",
       "      <td>0.074412</td>\n",
       "      <td>-0.039493</td>\n",
       "      <td>-0.068332</td>\n",
       "      <td>-0.092204</td>\n",
       "      <td>75.0</td>\n",
       "    </tr>\n",
       "    <tr>\n",
       "      <th>2</th>\n",
       "      <td>0.085299</td>\n",
       "      <td>0.050680</td>\n",
       "      <td>0.044451</td>\n",
       "      <td>-0.005670</td>\n",
       "      <td>-0.045599</td>\n",
       "      <td>-0.034194</td>\n",
       "      <td>-0.032356</td>\n",
       "      <td>-0.002592</td>\n",
       "      <td>0.002861</td>\n",
       "      <td>-0.025930</td>\n",
       "      <td>141.0</td>\n",
       "    </tr>\n",
       "    <tr>\n",
       "      <th>3</th>\n",
       "      <td>-0.089063</td>\n",
       "      <td>-0.044642</td>\n",
       "      <td>-0.011595</td>\n",
       "      <td>-0.036656</td>\n",
       "      <td>0.012191</td>\n",
       "      <td>0.024991</td>\n",
       "      <td>-0.036038</td>\n",
       "      <td>0.034309</td>\n",
       "      <td>0.022688</td>\n",
       "      <td>-0.009362</td>\n",
       "      <td>206.0</td>\n",
       "    </tr>\n",
       "    <tr>\n",
       "      <th>4</th>\n",
       "      <td>0.005383</td>\n",
       "      <td>-0.044642</td>\n",
       "      <td>-0.036385</td>\n",
       "      <td>0.021872</td>\n",
       "      <td>0.003935</td>\n",
       "      <td>0.015596</td>\n",
       "      <td>0.008142</td>\n",
       "      <td>-0.002592</td>\n",
       "      <td>-0.031988</td>\n",
       "      <td>-0.046641</td>\n",
       "      <td>135.0</td>\n",
       "    </tr>\n",
       "  </tbody>\n",
       "</table>\n",
       "</div>"
      ],
      "text/plain": [
       "        age       sex       bmi        bp        s1        s2        s3  \\\n",
       "0  0.038076  0.050680  0.061696  0.021872 -0.044223 -0.034821 -0.043401   \n",
       "1 -0.001882 -0.044642 -0.051474 -0.026328 -0.008449 -0.019163  0.074412   \n",
       "2  0.085299  0.050680  0.044451 -0.005670 -0.045599 -0.034194 -0.032356   \n",
       "3 -0.089063 -0.044642 -0.011595 -0.036656  0.012191  0.024991 -0.036038   \n",
       "4  0.005383 -0.044642 -0.036385  0.021872  0.003935  0.015596  0.008142   \n",
       "\n",
       "         s4        s5        s6  target  \n",
       "0 -0.002592  0.019907 -0.017646   151.0  \n",
       "1 -0.039493 -0.068332 -0.092204    75.0  \n",
       "2 -0.002592  0.002861 -0.025930   141.0  \n",
       "3  0.034309  0.022688 -0.009362   206.0  \n",
       "4 -0.002592 -0.031988 -0.046641   135.0  "
      ]
     },
     "execution_count": 27,
     "metadata": {},
     "output_type": "execute_result"
    }
   ],
   "source": [
    "import mltable\n",
    "\n",
    "# create a table from the parquet paths\n",
    "tbl = mltable.from_delimited_files(paths = [{'pattern': uri}], header='all_files_same_headers', delimiter=',')\n",
    "\n",
    "# print the first 5 records of the table as a check\n",
    "tbl.show(5)"
   ]
  },
  {
   "cell_type": "code",
   "execution_count": 29,
   "id": "6ab8f843-7dd3-43cd-8dc2-6a31f602d4ac",
   "metadata": {
    "tags": []
   },
   "outputs": [
    {
     "name": "stdout",
     "output_type": "stream",
     "text": [
      "Copying 1 files with concurrency set to 1\n",
      "Copied stodsba6190class/instructor/diabetes.csv, file 1 out of 1. Destination path: https://stodsba6190class.blob.core.windows.net/datalake/instructor/diabetes_mltable/stodsba6190class/instructor/diabetes.csv\n",
      "Files copied=1, skipped=0, failed=0\n",
      "Copying 1 files with concurrency set to 1\n",
      "Copied /tmp/tmp_kql72tz/MLTable, file 1 out of 1. Destination path: https://stodsba6190class.blob.core.windows.net/datalake/instructor/diabetes_mltable/MLTable\n",
      "Files copied=1, skipped=0, failed=0\n"
     ]
    },
    {
     "data": {
      "text/plain": [
       "paths:\n",
       "- pattern: azureml://subscriptions/e9bc187a-e9a1-46be-822e-e955a2563601/resourcegroups/rg-dsba6190-class-dev-eastus-001/workspaces/mls-dsba6190-class-dev-eastus-001/datastores/stodsba6190class/paths/instructor/diabetes.csv\n",
       "transformations:\n",
       "- read_delimited:\n",
       "    delimiter: ','\n",
       "    empty_as_string: false\n",
       "    encoding: utf8\n",
       "    header: all_files_same_headers\n",
       "    include_path_column: false\n",
       "    infer_column_types: true\n",
       "    partition_size: 20971520\n",
       "    path_column: Path\n",
       "    support_multi_line: false\n",
       "type: mltable"
      ]
     },
     "execution_count": 29,
     "metadata": {},
     "output_type": "execute_result"
    }
   ],
   "source": [
    "mltable_uri = \"azureml://subscriptions/e9bc187a-e9a1-46be-822e-e955a2563601/resourcegroups/rg-dsba6190-class-dev-eastus-001/workspaces/mls-dsba6190-class-dev-eastus-001/datastores/stodsba6190class/paths/instructor/diabetes_mltable\"\n",
    "tbl.save(path=mltable_uri, colocated=True, show_progress=True, overwrite=True)"
   ]
  },
  {
   "cell_type": "markdown",
   "id": "e37743a1-5f42-4021-bb46-82e91fc0229b",
   "metadata": {},
   "source": [
    "## Create Experiment"
   ]
  },
  {
   "cell_type": "code",
   "execution_count": 30,
   "id": "30bb876e-fc4a-44eb-81a7-172b2f356b35",
   "metadata": {
    "tags": []
   },
   "outputs": [],
   "source": [
    "my_training_data_input = Input(type=AssetTypes.MLTABLE, path=mltable_uri)"
   ]
  },
  {
   "cell_type": "code",
   "execution_count": 31,
   "id": "5570f75a-434a-42db-9a2c-ecd4f5dd36ee",
   "metadata": {
    "tags": []
   },
   "outputs": [],
   "source": [
    "# general job parameters\n",
    "max_trials = 5\n",
    "exp_name = \"instructor-diabetes-experiment\""
   ]
  },
  {
   "cell_type": "code",
   "execution_count": 38,
   "id": "0e670618-87ce-47d0-831e-76a5e9b50c2d",
   "metadata": {
    "tags": []
   },
   "outputs": [],
   "source": [
    "regression_job = automl.regression(\n",
    "    experiment_name=exp_name,\n",
    "    training_data=my_training_data_input,\n",
    "    target_column_name=\"target\",\n",
    "    primary_metric=\"R2Score\",\n",
    "    # n_cross_validations=5,\n",
    "    enable_model_explainability=True\n",
    ")\n",
    "\n",
    "# Limits are all optional\n",
    "regression_job.set_limits(\n",
    "    timeout_minutes=600,\n",
    "    trial_timeout_minutes=20,\n",
    "    max_trials=max_trials,\n",
    "    # max_concurrent_trials = 4,\n",
    "    # max_cores_per_trial: -1,\n",
    "    enable_early_termination=True,\n",
    ")"
   ]
  },
  {
   "cell_type": "markdown",
   "id": "15bf007f-124f-4893-bf87-883088d3e1c0",
   "metadata": {},
   "source": [
    "## Submit Job"
   ]
  },
  {
   "cell_type": "code",
   "execution_count": 39,
   "id": "f8fbfe73-361f-45fd-8978-46c1e3fc9d83",
   "metadata": {
    "tags": []
   },
   "outputs": [
    {
     "name": "stdout",
     "output_type": "stream",
     "text": [
      "Created job: compute: azureml:/subscriptions/e9bc187a-e9a1-46be-822e-e955a2563601/resourceGroups/rg-dsba6190-class-dev-eastus-001/providers/Microsoft.MachineLearningServices/workspaces/mls-dsba6190-class-dev-eastus-001/computes/\n",
      "creation_context:\n",
      "  created_at: '2024-10-02T18:33:47.649177+00:00'\n",
      "  created_by: Colby Ford\n",
      "  created_by_type: User\n",
      "display_name: strong_line_rf29xlpdw0\n",
      "experiment_name: instructor-diabetes-experiment\n",
      "id: azureml:/subscriptions/e9bc187a-e9a1-46be-822e-e955a2563601/resourceGroups/rg-dsba6190-class-dev-eastus-001/providers/Microsoft.MachineLearningServices/workspaces/mls-dsba6190-class-dev-eastus-001/jobs/strong_line_rf29xlpdw0\n",
      "limits:\n",
      "  enable_early_termination: true\n",
      "  max_concurrent_trials: 1\n",
      "  max_cores_per_trial: -1\n",
      "  max_nodes: 1\n",
      "  max_trials: 5\n",
      "  timeout_minutes: 600\n",
      "  trial_timeout_minutes: 20\n",
      "log_verbosity: info\n",
      "name: strong_line_rf29xlpdw0\n",
      "outputs: {}\n",
      "primary_metric: r2_score\n",
      "properties: {}\n",
      "queue_settings:\n",
      "  job_tier: 'null'\n",
      "resources:\n",
      "  instance_count: 1\n",
      "  shm_size: 2g\n",
      "services:\n",
      "  Studio:\n",
      "    endpoint: https://ml.azure.com/runs/strong_line_rf29xlpdw0?wsid=/subscriptions/e9bc187a-e9a1-46be-822e-e955a2563601/resourcegroups/rg-dsba6190-class-dev-eastus-001/workspaces/mls-dsba6190-class-dev-eastus-001&tid=88d59d7d-aecb-41b2-90c5-55595de02536\n",
      "  Tracking:\n",
      "    endpoint: azureml://eastus.api.azureml.ms/mlflow/v1.0/subscriptions/e9bc187a-e9a1-46be-822e-e955a2563601/resourceGroups/rg-dsba6190-class-dev-eastus-001/providers/Microsoft.MachineLearningServices/workspaces/mls-dsba6190-class-dev-eastus-001?\n",
      "status: NotStarted\n",
      "tags: {}\n",
      "target_column_name: target\n",
      "task: regression\n",
      "training:\n",
      "  enable_dnn_training: false\n",
      "  enable_model_explainability: true\n",
      "  enable_onnx_compatible_models: false\n",
      "  enable_stack_ensemble: true\n",
      "  enable_vote_ensemble: true\n",
      "  ensemble_model_download_timeout_minutes: 5\n",
      "  training_mode: auto\n",
      "training_data:\n",
      "  path: azureml://subscriptions/e9bc187a-e9a1-46be-822e-e955a2563601/resourcegroups/rg-dsba6190-class-dev-eastus-001/workspaces/mls-dsba6190-class-dev-eastus-001/datastores/stodsba6190class/paths/instructor/diabetes_mltable\n",
      "  type: mltable\n",
      "type: automl\n",
      "\n"
     ]
    }
   ],
   "source": [
    "# Submit the AutoML job\n",
    "returned_job = ml_client.jobs.create_or_update(\n",
    "    regression_job\n",
    ")  # submit the job to the backend\n",
    "\n",
    "print(f\"Created job: {returned_job}\")"
   ]
  },
  {
   "cell_type": "code",
   "execution_count": 40,
   "id": "9f4f0d33-8704-4386-9421-05e8d2c6c515",
   "metadata": {
    "tags": []
   },
   "outputs": [
    {
     "name": "stdout",
     "output_type": "stream",
     "text": [
      "RunId: strong_line_rf29xlpdw0\n",
      "Web View: https://ml.azure.com/runs/strong_line_rf29xlpdw0?wsid=/subscriptions/e9bc187a-e9a1-46be-822e-e955a2563601/resourcegroups/rg-dsba6190-class-dev-eastus-001/workspaces/mls-dsba6190-class-dev-eastus-001\n",
      "\n",
      "Execution Summary\n",
      "=================\n",
      "RunId: strong_line_rf29xlpdw0\n",
      "Web View: https://ml.azure.com/runs/strong_line_rf29xlpdw0?wsid=/subscriptions/e9bc187a-e9a1-46be-822e-e955a2563601/resourcegroups/rg-dsba6190-class-dev-eastus-001/workspaces/mls-dsba6190-class-dev-eastus-001\n",
      "\n"
     ]
    }
   ],
   "source": [
    "# Wait for job to complete and stream updates\n",
    "ml_client.jobs.stream(returned_job.name)"
   ]
  },
  {
   "cell_type": "code",
   "execution_count": 41,
   "id": "5e1ba624-fb62-4e00-a7b9-93fe684f200f",
   "metadata": {
    "tags": []
   },
   "outputs": [
    {
     "data": {
      "text/plain": [
       "'https://ml.azure.com/runs/strong_line_rf29xlpdw0?wsid=/subscriptions/e9bc187a-e9a1-46be-822e-e955a2563601/resourcegroups/rg-dsba6190-class-dev-eastus-001/workspaces/mls-dsba6190-class-dev-eastus-001&tid=88d59d7d-aecb-41b2-90c5-55595de02536'"
      ]
     },
     "execution_count": 41,
     "metadata": {},
     "output_type": "execute_result"
    }
   ],
   "source": [
    "# Get a URL for the status of the job\n",
    "returned_job.services[\"Studio\"].endpoint"
   ]
  },
  {
   "cell_type": "code",
   "execution_count": 42,
   "id": "0365b47a-39b2-48f9-bcc3-d0058ff2df82",
   "metadata": {
    "tags": []
   },
   "outputs": [
    {
     "name": "stdout",
     "output_type": "stream",
     "text": [
      "strong_line_rf29xlpdw0\n"
     ]
    }
   ],
   "source": [
    "print(returned_job.name)"
   ]
  },
  {
   "cell_type": "markdown",
   "id": "05357469-299b-46db-9d4d-c63a8e4b1214",
   "metadata": {},
   "source": [
    "## Get Best Model"
   ]
  },
  {
   "cell_type": "code",
   "execution_count": 43,
   "id": "3b26384c-dfe2-431b-841e-014b4a8105bc",
   "metadata": {
    "tags": []
   },
   "outputs": [
    {
     "name": "stdout",
     "output_type": "stream",
     "text": [
      "azureml://eastus.api.azureml.ms/mlflow/v1.0/subscriptions/e9bc187a-e9a1-46be-822e-e955a2563601/resourceGroups/rg-dsba6190-class-dev-eastus-001/providers/Microsoft.MachineLearningServices/workspaces/mls-dsba6190-class-dev-eastus-001\n"
     ]
    }
   ],
   "source": [
    "## Obtain the tracking URI for MLFlow\n",
    "import mlflow\n",
    "\n",
    "# Obtain the tracking URL from MLClient\n",
    "MLFLOW_TRACKING_URI = ml_client.workspaces.get(\n",
    "    name=ml_client.workspace_name\n",
    ").mlflow_tracking_uri\n",
    "\n",
    "print(MLFLOW_TRACKING_URI)"
   ]
  },
  {
   "cell_type": "code",
   "execution_count": 44,
   "id": "72fd229a-7186-45e9-ae37-84d92d697ac8",
   "metadata": {
    "tags": []
   },
   "outputs": [
    {
     "name": "stdout",
     "output_type": "stream",
     "text": [
      "\n",
      "Current tracking uri: azureml://eastus.api.azureml.ms/mlflow/v1.0/subscriptions/e9bc187a-e9a1-46be-822e-e955a2563601/resourceGroups/rg-dsba6190-class-dev-eastus-001/providers/Microsoft.MachineLearningServices/workspaces/mls-dsba6190-class-dev-eastus-001\n"
     ]
    }
   ],
   "source": [
    "# Set the MLFLOW TRACKING URI\n",
    "\n",
    "mlflow.set_tracking_uri(MLFLOW_TRACKING_URI)\n",
    "\n",
    "print(\"\\nCurrent tracking uri: {}\".format(mlflow.get_tracking_uri()))"
   ]
  },
  {
   "cell_type": "code",
   "execution_count": 45,
   "id": "7b95c296-e885-42d1-b407-63b8b80bb60b",
   "metadata": {
    "tags": []
   },
   "outputs": [
    {
     "name": "stderr",
     "output_type": "stream",
     "text": [
      "/anaconda/envs/azureml_py310_sdkv2/lib/python3.10/site-packages/azureml/mlflow/_protos/aml_service_pb2.py:10: UserWarning: google.protobuf.service module is deprecated. RPC implementations should provide code generator plugins which generate code specific to the RPC implementation. service.py will be removed in Jan 2025\n",
      "  from google.protobuf import service as _service\n"
     ]
    }
   ],
   "source": [
    "from mlflow.tracking.client import MlflowClient\n",
    "from mlflow.artifacts import download_artifacts\n",
    "\n",
    "# Initialize MLFlow client\n",
    "mlflow_client = MlflowClient()"
   ]
  },
  {
   "cell_type": "code",
   "execution_count": 46,
   "id": "e5ecf5f0-27f2-4b59-a89b-ddfeee4aba85",
   "metadata": {
    "tags": []
   },
   "outputs": [
    {
     "name": "stdout",
     "output_type": "stream",
     "text": [
      "Parent Run: \n",
      "<Run: data=<RunData: metrics={'explained_variance': 0.4066304793439654,\n",
      " 'mean_absolute_error': 47.68803490259772,\n",
      " 'mean_absolute_percentage_error': 42.50887432554903,\n",
      " 'median_absolute_error': 40.378502711263664,\n",
      " 'normalized_mean_absolute_error': 0.14856085639438543,\n",
      " 'normalized_median_absolute_error': 0.12578972807247252,\n",
      " 'normalized_root_mean_squared_error': 0.1833608242948157,\n",
      " 'normalized_root_mean_squared_log_error': 0.16958787655458055,\n",
      " 'r2_score': 0.39160689582214864,\n",
      " 'root_mean_squared_error': 58.85882459863584,\n",
      " 'root_mean_squared_log_error': 0.4394408952163837,\n",
      " 'spearman_correlation': 0.6298372225733961}, params={}, tags={'_azureml.ComputeTargetType': '',\n",
      " 'automl_best_child_run_id': 'strong_line_rf29xlpdw0_4',\n",
      " 'fit_time_000': '0.03377429999999999;0.3471856000000001;0.35274910000000004;3;3',\n",
      " 'iteration_000': '0;1;2;3;4',\n",
      " 'mlflow.rootRunId': 'strong_line_rf29xlpdw0',\n",
      " 'mlflow.runName': 'strong_line_rf29xlpdw0',\n",
      " 'mlflow.user': 'Colby Ford',\n",
      " 'model_explain_run': 'best_run',\n",
      " 'pipeline_id_000': 'faf12f74cf9bbd358ca5525682c5030d36f7be7c;4bc4ec47eb8df2d5d68b361cd60120e65196f757;5cc37daec73ea64276ef956449645cdb519fdfc6;__AutoML_Ensemble__;__AutoML_Stack_Ensemble__',\n",
      " 'predicted_cost_000': '0;0;0.5;0;0',\n",
      " 'run_algorithm_000': 'LightGBM;XGBoostRegressor;XGBoostRegressor;VotingEnsemble;StackEnsemble',\n",
      " 'run_preprocessor_000': 'MaxAbsScaler;MaxAbsScaler;StandardScalerWrapper;;',\n",
      " 'score_000': '0.37403560668002445;0.30279414163217666;-1;0.3787865947255294;0.39160689582214864',\n",
      " 'training_percent_000': '100;100;100;100;100'}>, info=<RunInfo: artifact_uri='azureml://eastus.api.azureml.ms/mlflow/v2.0/subscriptions/e9bc187a-e9a1-46be-822e-e955a2563601/resourceGroups/rg-dsba6190-class-dev-eastus-001/providers/Microsoft.MachineLearningServices/workspaces/mls-dsba6190-class-dev-eastus-001/experiments/367926ff-d4df-471c-a788-255cfd4df60d/runs/strong_line_rf29xlpdw0/artifacts', end_time=1727894876591, experiment_id='367926ff-d4df-471c-a788-255cfd4df60d', lifecycle_stage='active', run_id='strong_line_rf29xlpdw0', run_name='strong_line_rf29xlpdw0', run_uuid='strong_line_rf29xlpdw0', start_time=1727894042409, status='FINISHED', user_id='605ed5fd-a007-4b0a-8d38-b72e3df10241'>, inputs=<RunInputs: dataset_inputs=[]>>\n"
     ]
    }
   ],
   "source": [
    "# Get the AutoML parent Job\n",
    "job_name = returned_job.name\n",
    "\n",
    "# Example if providing an specific Job name/ID\n",
    "# job_name = \"b4e95546-0aa1-448e-9ad6-002e3207b4fc\"\n",
    "\n",
    "# Get the parent run\n",
    "mlflow_parent_run = mlflow_client.get_run(job_name)\n",
    "\n",
    "print(\"Parent Run: \")\n",
    "print(mlflow_parent_run)"
   ]
  },
  {
   "cell_type": "code",
   "execution_count": 47,
   "id": "a12803a3-9d6c-4340-945d-a145c16415ed",
   "metadata": {
    "tags": []
   },
   "outputs": [
    {
     "name": "stdout",
     "output_type": "stream",
     "text": [
      "{'model_explain_run': 'best_run', '_azureml.ComputeTargetType': '', 'pipeline_id_000': 'faf12f74cf9bbd358ca5525682c5030d36f7be7c;4bc4ec47eb8df2d5d68b361cd60120e65196f757;5cc37daec73ea64276ef956449645cdb519fdfc6;__AutoML_Ensemble__;__AutoML_Stack_Ensemble__', 'score_000': '0.37403560668002445;0.30279414163217666;-1;0.3787865947255294;0.39160689582214864', 'predicted_cost_000': '0;0;0.5;0;0', 'fit_time_000': '0.03377429999999999;0.3471856000000001;0.35274910000000004;3;3', 'training_percent_000': '100;100;100;100;100', 'iteration_000': '0;1;2;3;4', 'run_preprocessor_000': 'MaxAbsScaler;MaxAbsScaler;StandardScalerWrapper;;', 'run_algorithm_000': 'LightGBM;XGBoostRegressor;XGBoostRegressor;VotingEnsemble;StackEnsemble', 'automl_best_child_run_id': 'strong_line_rf29xlpdw0_4', 'mlflow.rootRunId': 'strong_line_rf29xlpdw0', 'mlflow.runName': 'strong_line_rf29xlpdw0', 'mlflow.user': 'Colby Ford'}\n"
     ]
    }
   ],
   "source": [
    "# Print parent run tags. 'automl_best_child_run_id' tag should be there.\n",
    "print(mlflow_parent_run.data.tags)"
   ]
  },
  {
   "cell_type": "code",
   "execution_count": 48,
   "id": "a995fb73-3480-412f-9c3e-9f2f6446ca00",
   "metadata": {
    "tags": []
   },
   "outputs": [
    {
     "name": "stdout",
     "output_type": "stream",
     "text": [
      "Found best child run id:  strong_line_rf29xlpdw0_4\n",
      "Best child run: \n",
      "<Run: data=<RunData: metrics={'explained_variance': 0.4066304793439654,\n",
      " 'mean_absolute_error': 47.68803490259772,\n",
      " 'mean_absolute_percentage_error': 42.50887432554903,\n",
      " 'median_absolute_error': 40.378502711263664,\n",
      " 'normalized_mean_absolute_error': 0.14856085639438543,\n",
      " 'normalized_median_absolute_error': 0.12578972807247252,\n",
      " 'normalized_root_mean_squared_error': 0.1833608242948157,\n",
      " 'normalized_root_mean_squared_log_error': 0.16958787655458055,\n",
      " 'r2_score': 0.39160689582214864,\n",
      " 'root_mean_squared_error': 58.85882459863584,\n",
      " 'root_mean_squared_log_error': 0.4394408952163837,\n",
      " 'spearman_correlation': 0.6298372225733961}, params={}, tags={'mlflow.parentRunId': 'strong_line_rf29xlpdw0',\n",
      " 'mlflow.rootRunId': 'strong_line_rf29xlpdw0',\n",
      " 'mlflow.runName': 'serene_book_gqtg3l8t',\n",
      " 'mlflow.source.name': 'automl_driver.py',\n",
      " 'mlflow.source.type': 'JOB',\n",
      " 'mlflow.user': 'Colby Ford'}>, info=<RunInfo: artifact_uri='azureml://eastus.api.azureml.ms/mlflow/v2.0/subscriptions/e9bc187a-e9a1-46be-822e-e955a2563601/resourceGroups/rg-dsba6190-class-dev-eastus-001/providers/Microsoft.MachineLearningServices/workspaces/mls-dsba6190-class-dev-eastus-001/experiments/367926ff-d4df-471c-a788-255cfd4df60d/runs/strong_line_rf29xlpdw0_4/artifacts', end_time=1727894875405, experiment_id='367926ff-d4df-471c-a788-255cfd4df60d', lifecycle_stage='active', run_id='strong_line_rf29xlpdw0_4', run_name='serene_book_gqtg3l8t', run_uuid='strong_line_rf29xlpdw0_4', start_time=1727894787605, status='FINISHED', user_id='605ed5fd-a007-4b0a-8d38-b72e3df10241'>, inputs=<RunInputs: dataset_inputs=[]>>\n"
     ]
    }
   ],
   "source": [
    "# Get the AutoML best child run\n",
    "\n",
    "best_child_run_id = mlflow_parent_run.data.tags[\"automl_best_child_run_id\"]\n",
    "print(\"Found best child run id: \", best_child_run_id)\n",
    "\n",
    "best_run = mlflow_client.get_run(best_child_run_id)\n",
    "\n",
    "print(\"Best child run: \")\n",
    "print(best_run)"
   ]
  },
  {
   "cell_type": "code",
   "execution_count": 49,
   "id": "209da11f-4611-493a-9771-4242e9c4b58b",
   "metadata": {
    "tags": []
   },
   "outputs": [
    {
     "data": {
      "text/plain": [
       "{'root_mean_squared_log_error': 0.4394408952163837,\n",
       " 'normalized_median_absolute_error': 0.12578972807247252,\n",
       " 'normalized_root_mean_squared_log_error': 0.16958787655458055,\n",
       " 'spearman_correlation': 0.6298372225733961,\n",
       " 'mean_absolute_error': 47.68803490259772,\n",
       " 'root_mean_squared_error': 58.85882459863584,\n",
       " 'r2_score': 0.39160689582214864,\n",
       " 'median_absolute_error': 40.378502711263664,\n",
       " 'normalized_mean_absolute_error': 0.14856085639438543,\n",
       " 'normalized_root_mean_squared_error': 0.1833608242948157,\n",
       " 'explained_variance': 0.4066304793439654,\n",
       " 'mean_absolute_percentage_error': 42.50887432554903}"
      ]
     },
     "execution_count": 49,
     "metadata": {},
     "output_type": "execute_result"
    }
   ],
   "source": [
    "# Get best model run's metrics\n",
    "best_run.data.metrics"
   ]
  },
  {
   "cell_type": "markdown",
   "id": "9aff9065-31a0-45db-91f1-e6ce0e090cd6",
   "metadata": {},
   "source": [
    "## Deploying the Best Model as an API Endpoint"
   ]
  },
  {
   "cell_type": "markdown",
   "id": "ae46d9c7-429b-4164-9fb7-e94151d3855b",
   "metadata": {},
   "source": [
    "### Create Managed Endpoint"
   ]
  },
  {
   "cell_type": "code",
   "execution_count": 64,
   "id": "7e6b0d12-ffd9-4e5c-9650-fe4340fb28cc",
   "metadata": {
    "tags": []
   },
   "outputs": [],
   "source": [
    "# import required libraries\n",
    "from azure.ai.ml.entities import (\n",
    "    ManagedOnlineEndpoint,\n",
    "    ManagedOnlineDeployment,\n",
    "    Model,\n",
    "    Environment,\n",
    "    CodeConfiguration,\n",
    "    ProbeSettings,\n",
    ")\n",
    "from azure.ai.ml.constants import ModelType"
   ]
  },
  {
   "cell_type": "code",
   "execution_count": 65,
   "id": "368f0c83-5234-41f4-a219-a86ca3426cdb",
   "metadata": {
    "tags": []
   },
   "outputs": [],
   "source": [
    "# Creating a unique endpoint name with current datetime to avoid conflicts\n",
    "import datetime\n",
    "\n",
    "online_endpoint_name = \"instructor-diabetes-endpoint-01\"\n",
    "\n",
    "# create an online endpoint\n",
    "endpoint = ManagedOnlineEndpoint(\n",
    "    name=online_endpoint_name,\n",
    "    description=\"online endpoint for the instructor diabetes AutoML model\",\n",
    "    auth_mode=\"key\"\n",
    ")"
   ]
  },
  {
   "cell_type": "code",
   "execution_count": 66,
   "id": "e757086b-807b-484d-9f55-434dd9549561",
   "metadata": {
    "tags": []
   },
   "outputs": [
    {
     "data": {
      "text/plain": [
       "ManagedOnlineEndpoint({'public_network_access': 'Enabled', 'provisioning_state': 'Succeeded', 'scoring_uri': 'https://instructor-diabetes-endpoint-01.eastus.inference.ml.azure.com/score', 'openapi_uri': 'https://instructor-diabetes-endpoint-01.eastus.inference.ml.azure.com/swagger.json', 'name': 'instructor-diabetes-endpoint-01', 'description': 'online endpoint for the instructor diabetes AutoML model', 'tags': {}, 'properties': {'createdBy': 'Colby Ford', 'createdAt': '2024-10-02T20:02:24.462416+0000', 'lastModifiedAt': '2024-10-02T20:02:24.462416+0000', 'azureml.onlineendpointid': '/subscriptions/e9bc187a-e9a1-46be-822e-e955a2563601/resourcegroups/rg-dsba6190-class-dev-eastus-001/providers/microsoft.machinelearningservices/workspaces/mls-dsba6190-class-dev-eastus-001/onlineendpoints/instructor-diabetes-endpoint-01', 'AzureAsyncOperationUri': 'https://management.azure.com/subscriptions/e9bc187a-e9a1-46be-822e-e955a2563601/providers/Microsoft.MachineLearningServices/locations/eastus/mfeOperationsStatus/oeidp:25d84a7a-c070-46c4-b283-0de91b6aa4e9:b8030acf-e49b-4943-9920-cd675ad4c6f5?api-version=2022-02-01-preview'}, 'print_as_yaml': False, 'id': '/subscriptions/e9bc187a-e9a1-46be-822e-e955a2563601/resourceGroups/rg-dsba6190-class-dev-eastus-001/providers/Microsoft.MachineLearningServices/workspaces/mls-dsba6190-class-dev-eastus-001/onlineEndpoints/instructor-diabetes-endpoint-01', 'Resource__source_path': '', 'base_path': '/mnt/batch/tasks/shared/LS_root/mounts/clusters/cford38-compute/code', 'creation_context': None, 'serialize': <msrest.serialization.Serializer object at 0x7f6cdb538670>, 'auth_mode': 'key', 'location': 'eastus', 'identity': <azure.ai.ml.entities._credentials.IdentityConfiguration object at 0x7f6cdb504460>, 'traffic': {}, 'mirror_traffic': {}, 'kind': 'Managed'})"
      ]
     },
     "execution_count": 66,
     "metadata": {},
     "output_type": "execute_result"
    }
   ],
   "source": [
    "ml_client.begin_create_or_update(endpoint).result()"
   ]
  },
  {
   "cell_type": "markdown",
   "id": "893dc3a8-b457-46b4-9adc-906cc4ca12e2",
   "metadata": {},
   "source": [
    "### Register Best Model"
   ]
  },
  {
   "cell_type": "code",
   "execution_count": 67,
   "id": "d91ab31b-5251-4499-a39b-1a20ca04b227",
   "metadata": {
    "tags": []
   },
   "outputs": [],
   "source": [
    "model_name = \"instructor-diabetes-model\"\n",
    "model = Model(\n",
    "    path=f\"azureml://jobs/{best_run.info.run_id}/outputs/artifacts/outputs/mlflow-model/\",\n",
    "    name=model_name,\n",
    "    description=\"Instructor diabetes regression AutoML model\",\n",
    "    type=AssetTypes.MLFLOW_MODEL,\n",
    ")\n",
    "\n",
    "registered_model = ml_client.models.create_or_update(model)"
   ]
  },
  {
   "cell_type": "code",
   "execution_count": 68,
   "id": "e09d76d5-b360-43e0-8099-785218202d23",
   "metadata": {
    "tags": []
   },
   "outputs": [
    {
     "data": {
      "text/plain": [
       "'/subscriptions/e9bc187a-e9a1-46be-822e-e955a2563601/resourceGroups/rg-dsba6190-class-dev-eastus-001/providers/Microsoft.MachineLearningServices/workspaces/mls-dsba6190-class-dev-eastus-001/models/instructor-diabetes-model/versions/2'"
      ]
     },
     "execution_count": 68,
     "metadata": {},
     "output_type": "execute_result"
    }
   ],
   "source": [
    "registered_model.id"
   ]
  },
  {
   "cell_type": "markdown",
   "id": "8ef351a0-a115-4319-a1c8-14caeba270a2",
   "metadata": {
    "tags": []
   },
   "source": [
    "### Deploy"
   ]
  },
  {
   "cell_type": "code",
   "execution_count": 69,
   "id": "948d1f30-7b52-4cb5-a6bd-651979c2436c",
   "metadata": {
    "tags": []
   },
   "outputs": [],
   "source": [
    "deployment = ManagedOnlineDeployment(\n",
    "    name=\"instructor-diabetes-deploy\",\n",
    "    endpoint_name=online_endpoint_name,\n",
    "    model=registered_model.id,\n",
    "    instance_type=\"Standard_DS3_V2\",\n",
    "    instance_count=1,\n",
    "    liveness_probe=ProbeSettings(\n",
    "        failure_threshold=30,\n",
    "        success_threshold=1,\n",
    "        timeout=2,\n",
    "        period=10,\n",
    "        initial_delay=2000,\n",
    "    ),\n",
    "    readiness_probe=ProbeSettings(\n",
    "        failure_threshold=10,\n",
    "        success_threshold=1,\n",
    "        timeout=10,\n",
    "        period=10,\n",
    "        initial_delay=2000,\n",
    "    ),\n",
    ")"
   ]
  },
  {
   "cell_type": "code",
   "execution_count": 70,
   "id": "b9c17558-9ed8-4885-9024-f07e59df5ec4",
   "metadata": {
    "tags": []
   },
   "outputs": [
    {
     "name": "stderr",
     "output_type": "stream",
     "text": [
      "Check: endpoint instructor-diabetes-endpoint-01 exists\n"
     ]
    },
    {
     "name": "stdout",
     "output_type": "stream",
     "text": [
      "........................................................................................................................................................................................................................................................................................................................................................................................................................................................................................"
     ]
    },
    {
     "data": {
      "text/plain": [
       "ManagedOnlineDeployment({'private_network_connection': None, 'package_model': False, 'provisioning_state': 'Succeeded', 'endpoint_name': 'instructor-diabetes-endpoint-01', 'type': 'Managed', 'name': 'instructor-diabetes-deploy', 'description': None, 'tags': {}, 'properties': {'AzureAsyncOperationUri': 'https://management.azure.com/subscriptions/e9bc187a-e9a1-46be-822e-e955a2563601/providers/Microsoft.MachineLearningServices/locations/eastus/mfeOperationsStatus/odidp:25d84a7a-c070-46c4-b283-0de91b6aa4e9:9ec20e6b-cd99-4bec-9341-5f711a55ac41?api-version=2023-04-01-preview'}, 'print_as_yaml': False, 'id': '/subscriptions/e9bc187a-e9a1-46be-822e-e955a2563601/resourceGroups/rg-dsba6190-class-dev-eastus-001/providers/Microsoft.MachineLearningServices/workspaces/mls-dsba6190-class-dev-eastus-001/onlineEndpoints/instructor-diabetes-endpoint-01/deployments/instructor-diabetes-deploy', 'Resource__source_path': '', 'base_path': '/mnt/batch/tasks/shared/LS_root/mounts/clusters/cford38-compute/code', 'creation_context': <azure.ai.ml._restclient.v2023_04_01_preview.models._models_py3.SystemData object at 0x7f6cdbe01480>, 'serialize': <msrest.serialization.Serializer object at 0x7f6cdb539720>, 'model': '/subscriptions/e9bc187a-e9a1-46be-822e-e955a2563601/resourceGroups/rg-dsba6190-class-dev-eastus-001/providers/Microsoft.MachineLearningServices/workspaces/mls-dsba6190-class-dev-eastus-001/models/instructor-diabetes-model/versions/2', 'code_configuration': None, 'environment': '/subscriptions/e9bc187a-e9a1-46be-822e-e955a2563601/resourceGroups/rg-dsba6190-class-dev-eastus-001/providers/Microsoft.MachineLearningServices/workspaces/mls-dsba6190-class-dev-eastus-001/environments/DefaultNcdEnv-azureml-automl/versions/178', 'environment_variables': {'AML_APP_ROOT': '/var/mlflow_resources', 'AZUREML_ENTRY_SCRIPT': 'mlflow_score_script.py', 'AZUREML_MODEL_DIR': '/var/azureml-app/azureml-models/instructor-diabetes-model/2'}, 'app_insights_enabled': False, 'scale_settings': <azure.ai.ml.entities._deployment.scale_settings.DefaultScaleSettings object at 0x7f6cdb504220>, 'request_settings': <azure.ai.ml.entities._deployment.deployment_settings.OnlineRequestSettings object at 0x7f6cdbe03a90>, 'liveness_probe': <azure.ai.ml.entities._deployment.deployment_settings.ProbeSettings object at 0x7f6cdb5394b0>, 'readiness_probe': <azure.ai.ml.entities._deployment.deployment_settings.ProbeSettings object at 0x7f6cdb538ee0>, 'instance_count': 1, 'arm_type': 'online_deployment', 'model_mount_path': None, 'instance_type': 'Standard_DS3_V2', 'data_collector': None, 'egress_public_network_access': 'Enabled'})"
      ]
     },
     "execution_count": 70,
     "metadata": {},
     "output_type": "execute_result"
    }
   ],
   "source": [
    "ml_client.online_deployments.begin_create_or_update(deployment).result()"
   ]
  },
  {
   "cell_type": "code",
   "execution_count": 71,
   "id": "b19098ee-b16a-478a-a2b2-1e7162b102f3",
   "metadata": {
    "tags": []
   },
   "outputs": [
    {
     "data": {
      "text/plain": [
       "ManagedOnlineEndpoint({'public_network_access': 'Enabled', 'provisioning_state': 'Succeeded', 'scoring_uri': 'https://instructor-diabetes-endpoint-01.eastus.inference.ml.azure.com/score', 'openapi_uri': 'https://instructor-diabetes-endpoint-01.eastus.inference.ml.azure.com/swagger.json', 'name': 'instructor-diabetes-endpoint-01', 'description': 'online endpoint for the instructor diabetes AutoML model', 'tags': {}, 'properties': {'createdBy': 'Colby Ford', 'createdAt': '2024-10-02T20:02:24.462416+0000', 'lastModifiedAt': '2024-10-02T20:02:24.462416+0000', 'azureml.onlineendpointid': '/subscriptions/e9bc187a-e9a1-46be-822e-e955a2563601/resourcegroups/rg-dsba6190-class-dev-eastus-001/providers/microsoft.machinelearningservices/workspaces/mls-dsba6190-class-dev-eastus-001/onlineendpoints/instructor-diabetes-endpoint-01', 'AzureAsyncOperationUri': 'https://management.azure.com/subscriptions/e9bc187a-e9a1-46be-822e-e955a2563601/providers/Microsoft.MachineLearningServices/locations/eastus/mfeOperationsStatus/oeidp:25d84a7a-c070-46c4-b283-0de91b6aa4e9:4802f0a1-6d0f-4f78-a45c-fed1df032917?api-version=2022-02-01-preview'}, 'print_as_yaml': False, 'id': '/subscriptions/e9bc187a-e9a1-46be-822e-e955a2563601/resourceGroups/rg-dsba6190-class-dev-eastus-001/providers/Microsoft.MachineLearningServices/workspaces/mls-dsba6190-class-dev-eastus-001/onlineEndpoints/instructor-diabetes-endpoint-01', 'Resource__source_path': '', 'base_path': '/mnt/batch/tasks/shared/LS_root/mounts/clusters/cford38-compute/code', 'creation_context': None, 'serialize': <msrest.serialization.Serializer object at 0x7f6cdb535900>, 'auth_mode': 'key', 'location': 'eastus', 'identity': <azure.ai.ml.entities._credentials.IdentityConfiguration object at 0x7f6d54c38610>, 'traffic': {'instructor-diabetes-deploy': 100}, 'mirror_traffic': {}, 'kind': 'Managed'})"
      ]
     },
     "execution_count": 71,
     "metadata": {},
     "output_type": "execute_result"
    }
   ],
   "source": [
    "endpoint.traffic = {\"instructor-diabetes-deploy\": 100}\n",
    "ml_client.begin_create_or_update(endpoint).result()"
   ]
  },
  {
   "cell_type": "markdown",
   "id": "34b513df-7fd4-489f-8952-d9ed8ecd3eb1",
   "metadata": {},
   "source": [
    "### Test the API"
   ]
  },
  {
   "cell_type": "code",
   "execution_count": 75,
   "id": "d4404d94-8ae6-44db-be5e-d24af82a330f",
   "metadata": {},
   "outputs": [],
   "source": [
    "import pandas as pd\n",
    "\n",
    "uri = \"azureml://subscriptions/e9bc187a-e9a1-46be-822e-e955a2563601/resourcegroups/rg-dsba6190-class-dev-eastus-001/workspaces/mls-dsba6190-class-dev-eastus-001/datastores/stodsba6190class/paths/instructor/diabetes.csv\"\n",
    "test_df = pd.read_csv(uri).head(2)\n",
    "\n",
    "test_data_json = test_df.to_json(orient=\"records\", indent=4)\n",
    "data = (\n",
    "    '{ \\\n",
    "          \"input_data\": {\"data\": '\n",
    "    + test_data_json\n",
    "    + \"}}\"\n",
    ")"
   ]
  },
  {
   "cell_type": "code",
   "execution_count": 76,
   "id": "8ffbeb29-c8ce-4ca7-be04-be2c7846b4bf",
   "metadata": {},
   "outputs": [
    {
     "data": {
      "text/plain": [
       "'[158.49739290029717, 87.1367118232485]'"
      ]
     },
     "execution_count": 76,
     "metadata": {},
     "output_type": "execute_result"
    }
   ],
   "source": [
    "request_file_name = \"sample-request-diabetes.json\"\n",
    "\n",
    "with open(request_file_name, \"w\") as request_file:\n",
    "    request_file.write(data)\n",
    "\n",
    "# test the blue deployment with some sample data\n",
    "ml_client.online_endpoints.invoke(\n",
    "    endpoint_name=online_endpoint_name,\n",
    "    deployment_name=\"instructor-diabetes-deploy\",\n",
    "    request_file=\"sample-request-diabetes.json\",\n",
    ")"
   ]
  },
  {
   "cell_type": "markdown",
   "id": "c718bba4-705b-4a4d-b8a9-0b43f95a7039",
   "metadata": {},
   "source": [
    "### Get Endpoint Details"
   ]
  },
  {
   "cell_type": "code",
   "execution_count": 77,
   "id": "e58bf594-48e5-4990-b8b8-c5f66e4d15c2",
   "metadata": {},
   "outputs": [
    {
     "name": "stdout",
     "output_type": "stream",
     "text": [
      "{'instructor-diabetes-deploy': 100}\n",
      "https://instructor-diabetes-endpoint-01.eastus.inference.ml.azure.com/score\n"
     ]
    }
   ],
   "source": [
    "# Get the details for online endpoint\n",
    "endpoint = ml_client.online_endpoints.get(name=online_endpoint_name)\n",
    "\n",
    "# existing traffic details\n",
    "print(endpoint.traffic)\n",
    "\n",
    "# Get the scoring URI\n",
    "print(endpoint.scoring_uri)"
   ]
  },
  {
   "cell_type": "code",
   "execution_count": null,
   "id": "e850bbe2-4de5-4a3f-806f-59698bbca820",
   "metadata": {},
   "outputs": [],
   "source": [
    "# Delete the deployment and endpoint\n",
    "# ml_client.online_endpoints.begin_delete(name=online_endpoint_name)"
   ]
  },
  {
   "cell_type": "code",
   "execution_count": null,
   "id": "da549748-39c2-41f1-8d72-b58d7c4dca79",
   "metadata": {},
   "outputs": [],
   "source": []
  }
 ],
 "metadata": {
  "kernelspec": {
   "display_name": "Python 3.10 - SDK v2",
   "language": "python",
   "name": "python310-sdkv2"
  },
  "language_info": {
   "codemirror_mode": {
    "name": "ipython",
    "version": 3
   },
   "file_extension": ".py",
   "mimetype": "text/x-python",
   "name": "python",
   "nbconvert_exporter": "python",
   "pygments_lexer": "ipython3",
   "version": "3.10.14"
  }
 },
 "nbformat": 4,
 "nbformat_minor": 5
}
