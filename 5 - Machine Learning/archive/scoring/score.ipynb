{
 "cells": [
  {
   "cell_type": "code",
   "execution_count": 1,
   "id": "2b4425b4",
   "metadata": {},
   "outputs": [],
   "source": [
    "import pandas as pd\n",
    "import numpy as np\n",
    "from sklearn import metrics\n",
    "import json\n",
    "from azureml.core import Workspace, Webservice"
   ]
  },
  {
   "cell_type": "code",
   "execution_count": 2,
   "id": "8b1c5547",
   "metadata": {},
   "outputs": [],
   "source": [
    "## Connect to Workspace\n",
    "ws = Workspace.from_config()"
   ]
  },
  {
   "cell_type": "code",
   "execution_count": 10,
   "id": "3cb2fb96",
   "metadata": {},
   "outputs": [
    {
     "name": "stdout",
     "output_type": "stream",
     "text": [
      "alpha-forrest-automl\n",
      "dsba6190-alpha-forrest-automl\n",
      "alpha-connor\n",
      "connorsmodel-test\n",
      "automl-gamma-sam\n",
      "mslearn-diabetes-automl-els\n",
      "beta-warsame-automl-rn-1\n",
      "delta-adeo3-bestmodel-automl\n",
      "beta-jai-automl-0228-model1\n",
      "beta-leti-automl-bestmodel\n",
      "harley-automlwinner-withkey\n",
      "automl-gamma-jenny-diabetes-bm\n",
      "automl-gamma-jenny-diabetes2\n",
      "betajaiautomldeployed\n",
      "beta-jai-automldeploy1\n",
      "betasam\n",
      "betasamautoml\n",
      "gamma-harley-automl\n",
      "diabetes-ydemir\n",
      "diabetes-demir\n",
      "diagnosis-ydemir\n",
      "diabetes-george\n",
      "automl-gamma-jenny\n",
      "automl-ydemir\n",
      "alpha-jacob-bestmodel\n",
      "diabeetus-gamma-jessica\n"
     ]
    }
   ],
   "source": [
    "## Get list of webservices\n",
    "for webservice_name in ws.webservices:\n",
    "    print(webservice_name)"
   ]
  },
  {
   "cell_type": "code",
   "execution_count": 5,
   "id": "75dff6c7",
   "metadata": {},
   "outputs": [
    {
     "data": {
      "text/html": [
       "<div>\n",
       "<style scoped>\n",
       "    .dataframe tbody tr th:only-of-type {\n",
       "        vertical-align: middle;\n",
       "    }\n",
       "\n",
       "    .dataframe tbody tr th {\n",
       "        vertical-align: top;\n",
       "    }\n",
       "\n",
       "    .dataframe thead th {\n",
       "        text-align: right;\n",
       "    }\n",
       "</style>\n",
       "<table border=\"1\" class=\"dataframe\">\n",
       "  <thead>\n",
       "    <tr style=\"text-align: right;\">\n",
       "      <th></th>\n",
       "      <th>PatientID</th>\n",
       "      <th>Pregnancies</th>\n",
       "      <th>PlasmaGlucose</th>\n",
       "      <th>DiastolicBloodPressure</th>\n",
       "      <th>TricepsThickness</th>\n",
       "      <th>SerumInsulin</th>\n",
       "      <th>BMI</th>\n",
       "      <th>DiabetesPedigree</th>\n",
       "      <th>Age</th>\n",
       "      <th>Diabetic</th>\n",
       "    </tr>\n",
       "  </thead>\n",
       "  <tbody>\n",
       "    <tr>\n",
       "      <th>0</th>\n",
       "      <td>1824483</td>\n",
       "      <td>3</td>\n",
       "      <td>94</td>\n",
       "      <td>96</td>\n",
       "      <td>31</td>\n",
       "      <td>36</td>\n",
       "      <td>21.294479</td>\n",
       "      <td>0.259020</td>\n",
       "      <td>23</td>\n",
       "      <td>0</td>\n",
       "    </tr>\n",
       "    <tr>\n",
       "      <th>1</th>\n",
       "      <td>1218879</td>\n",
       "      <td>1</td>\n",
       "      <td>124</td>\n",
       "      <td>82</td>\n",
       "      <td>42</td>\n",
       "      <td>266</td>\n",
       "      <td>34.985772</td>\n",
       "      <td>0.083335</td>\n",
       "      <td>25</td>\n",
       "      <td>0</td>\n",
       "    </tr>\n",
       "    <tr>\n",
       "      <th>2</th>\n",
       "      <td>1940297</td>\n",
       "      <td>2</td>\n",
       "      <td>44</td>\n",
       "      <td>81</td>\n",
       "      <td>46</td>\n",
       "      <td>146</td>\n",
       "      <td>34.534082</td>\n",
       "      <td>0.693502</td>\n",
       "      <td>55</td>\n",
       "      <td>1</td>\n",
       "    </tr>\n",
       "    <tr>\n",
       "      <th>3</th>\n",
       "      <td>1139740</td>\n",
       "      <td>6</td>\n",
       "      <td>135</td>\n",
       "      <td>91</td>\n",
       "      <td>31</td>\n",
       "      <td>14</td>\n",
       "      <td>45.274113</td>\n",
       "      <td>0.707163</td>\n",
       "      <td>21</td>\n",
       "      <td>1</td>\n",
       "    </tr>\n",
       "    <tr>\n",
       "      <th>4</th>\n",
       "      <td>1398321</td>\n",
       "      <td>3</td>\n",
       "      <td>163</td>\n",
       "      <td>87</td>\n",
       "      <td>42</td>\n",
       "      <td>428</td>\n",
       "      <td>18.571188</td>\n",
       "      <td>0.777016</td>\n",
       "      <td>25</td>\n",
       "      <td>0</td>\n",
       "    </tr>\n",
       "    <tr>\n",
       "      <th>...</th>\n",
       "      <td>...</td>\n",
       "      <td>...</td>\n",
       "      <td>...</td>\n",
       "      <td>...</td>\n",
       "      <td>...</td>\n",
       "      <td>...</td>\n",
       "      <td>...</td>\n",
       "      <td>...</td>\n",
       "      <td>...</td>\n",
       "      <td>...</td>\n",
       "    </tr>\n",
       "    <tr>\n",
       "      <th>1980</th>\n",
       "      <td>1125285</td>\n",
       "      <td>11</td>\n",
       "      <td>97</td>\n",
       "      <td>89</td>\n",
       "      <td>11</td>\n",
       "      <td>23</td>\n",
       "      <td>46.470067</td>\n",
       "      <td>1.476670</td>\n",
       "      <td>39</td>\n",
       "      <td>1</td>\n",
       "    </tr>\n",
       "    <tr>\n",
       "      <th>1981</th>\n",
       "      <td>1937555</td>\n",
       "      <td>0</td>\n",
       "      <td>93</td>\n",
       "      <td>72</td>\n",
       "      <td>36</td>\n",
       "      <td>24</td>\n",
       "      <td>21.533557</td>\n",
       "      <td>0.168769</td>\n",
       "      <td>22</td>\n",
       "      <td>0</td>\n",
       "    </tr>\n",
       "    <tr>\n",
       "      <th>1982</th>\n",
       "      <td>1534261</td>\n",
       "      <td>0</td>\n",
       "      <td>156</td>\n",
       "      <td>86</td>\n",
       "      <td>11</td>\n",
       "      <td>196</td>\n",
       "      <td>24.466125</td>\n",
       "      <td>0.108286</td>\n",
       "      <td>22</td>\n",
       "      <td>0</td>\n",
       "    </tr>\n",
       "    <tr>\n",
       "      <th>1983</th>\n",
       "      <td>1361758</td>\n",
       "      <td>1</td>\n",
       "      <td>88</td>\n",
       "      <td>62</td>\n",
       "      <td>28</td>\n",
       "      <td>83</td>\n",
       "      <td>36.406924</td>\n",
       "      <td>0.454795</td>\n",
       "      <td>22</td>\n",
       "      <td>0</td>\n",
       "    </tr>\n",
       "    <tr>\n",
       "      <th>1984</th>\n",
       "      <td>1950748</td>\n",
       "      <td>9</td>\n",
       "      <td>155</td>\n",
       "      <td>51</td>\n",
       "      <td>32</td>\n",
       "      <td>25</td>\n",
       "      <td>37.952566</td>\n",
       "      <td>0.086701</td>\n",
       "      <td>26</td>\n",
       "      <td>0</td>\n",
       "    </tr>\n",
       "  </tbody>\n",
       "</table>\n",
       "<p>1985 rows × 10 columns</p>\n",
       "</div>"
      ],
      "text/plain": [
       "      PatientID  Pregnancies  PlasmaGlucose  DiastolicBloodPressure  \\\n",
       "0       1824483            3             94                      96   \n",
       "1       1218879            1            124                      82   \n",
       "2       1940297            2             44                      81   \n",
       "3       1139740            6            135                      91   \n",
       "4       1398321            3            163                      87   \n",
       "...         ...          ...            ...                     ...   \n",
       "1980    1125285           11             97                      89   \n",
       "1981    1937555            0             93                      72   \n",
       "1982    1534261            0            156                      86   \n",
       "1983    1361758            1             88                      62   \n",
       "1984    1950748            9            155                      51   \n",
       "\n",
       "      TricepsThickness  SerumInsulin        BMI  DiabetesPedigree  Age  \\\n",
       "0                   31            36  21.294479          0.259020   23   \n",
       "1                   42           266  34.985772          0.083335   25   \n",
       "2                   46           146  34.534082          0.693502   55   \n",
       "3                   31            14  45.274113          0.707163   21   \n",
       "4                   42           428  18.571188          0.777016   25   \n",
       "...                ...           ...        ...               ...  ...   \n",
       "1980                11            23  46.470067          1.476670   39   \n",
       "1981                36            24  21.533557          0.168769   22   \n",
       "1982                11           196  24.466125          0.108286   22   \n",
       "1983                28            83  36.406924          0.454795   22   \n",
       "1984                32            25  37.952566          0.086701   26   \n",
       "\n",
       "      Diabetic  \n",
       "0            0  \n",
       "1            0  \n",
       "2            1  \n",
       "3            1  \n",
       "4            0  \n",
       "...        ...  \n",
       "1980         1  \n",
       "1981         0  \n",
       "1982         0  \n",
       "1983         0  \n",
       "1984         0  \n",
       "\n",
       "[1985 rows x 10 columns]"
      ]
     },
     "execution_count": 5,
     "metadata": {},
     "output_type": "execute_result"
    }
   ],
   "source": [
    "## Load in the diabetes validation data\n",
    "data_pd = pd.read_csv(\"diabetes_validation.csv\")\n",
    "data_pd"
   ]
  },
  {
   "cell_type": "code",
   "execution_count": 7,
   "id": "b7659d92",
   "metadata": {},
   "outputs": [],
   "source": [
    "## Get the webservice endpoint object\n",
    "service = Webservice(ws, \"alpha-forrest-automl\")"
   ]
  },
  {
   "cell_type": "code",
   "execution_count": 51,
   "id": "e9823a4e",
   "metadata": {},
   "outputs": [],
   "source": [
    "## Format the request data\n",
    "\n",
    "# data = {\n",
    "#     \"Inputs\": {\n",
    "#         \"data\": data_pd.drop('Diabetic', axis=1).to_dict(orient='records')\n",
    "#     },\n",
    "#     \"GlobalParameters\": {\n",
    "#         \"method\": \"predict\"\n",
    "#     }\n",
    "# }\n",
    "\n",
    "data = {\n",
    "    \"Inputs\": {\n",
    "        \"data\": data_pd.drop(['PatientID', 'Diabetic'], axis=1).to_dict(orient='records')\n",
    "    },\n",
    "    \"GlobalParameters\": {\n",
    "        \"method\": \"predict\"\n",
    "    }\n",
    "}\n",
    "\n",
    "body = str.encode(json.dumps(data))"
   ]
  },
  {
   "cell_type": "code",
   "execution_count": 41,
   "id": "d68e5281",
   "metadata": {},
   "outputs": [],
   "source": [
    "## Call the web service\n",
    "predictions = service.run(input_data = json.dumps(data))['Results']"
   ]
  },
  {
   "cell_type": "code",
   "execution_count": 44,
   "id": "a029189b",
   "metadata": {},
   "outputs": [
    {
     "data": {
      "text/plain": [
       "0.9550382894836607"
      ]
     },
     "execution_count": 44,
     "metadata": {},
     "output_type": "execute_result"
    }
   ],
   "source": [
    "## Calcualte the AUC\n",
    "fpr, tpr, thresholds = metrics.roc_curve(data_pd['Diabetic'].values, np.asarray(predictions), pos_label=1)\n",
    "auc = metrics.auc(fpr, tpr)"
   ]
  },
  {
   "cell_type": "code",
   "execution_count": null,
   "id": "40a86a0d",
   "metadata": {
    "scrolled": true
   },
   "outputs": [
    {
     "name": "stderr",
     "output_type": "stream",
     "text": [
      "Received bad response from service. More information can be found by calling `.get_logs()` on the webservice object.\n",
      "Response Code: 502\n",
      "Headers: {'Connection': 'keep-alive', 'Content-Length': '73', 'Content-Type': 'text/html; charset=utf-8', 'Date': 'Tue, 29 Mar 2022 18:48:40 GMT', 'Server': 'nginx/1.14.0 (Ubuntu)', 'X-Ms-Request-Id': 'a17e739c-eda7-4dd8-be2c-5cd91daa7552', 'X-Ms-Run-Function-Failed': 'True'}\n",
      "Content: b'Length mismatch: Expected axis has 8 elements, new values have 9 elements'\n",
      "\n"
     ]
    },
    {
     "name": "stdout",
     "output_type": "stream",
     "text": [
      "Endpoint: alpha-forrest-automl; Could not run.\n"
     ]
    },
    {
     "name": "stderr",
     "output_type": "stream",
     "text": [
      "Received bad response from service. More information can be found by calling `.get_logs()` on the webservice object.\n",
      "Response Code: 502\n",
      "Headers: {'Connection': 'keep-alive', 'Content-Length': '73', 'Content-Type': 'text/html; charset=utf-8', 'Date': 'Tue, 29 Mar 2022 18:48:54 GMT', 'Server': 'nginx/1.14.0 (Ubuntu)', 'X-Ms-Request-Id': '833d4bba-409e-49c5-a200-4b6a7a67cc59', 'X-Ms-Run-Function-Failed': 'True'}\n",
      "Content: b'Length mismatch: Expected axis has 8 elements, new values have 9 elements'\n",
      "\n"
     ]
    },
    {
     "name": "stdout",
     "output_type": "stream",
     "text": [
      "Endpoint: dsba6190-alpha-forrest-automl; Could not run.\n"
     ]
    },
    {
     "name": "stderr",
     "output_type": "stream",
     "text": [
      "Received bad response from service. More information can be found by calling `.get_logs()` on the webservice object.\n",
      "Response Code: 502\n",
      "Headers: {'Connection': 'keep-alive', 'Content-Length': '73', 'Content-Type': 'text/html; charset=utf-8', 'Date': 'Tue, 29 Mar 2022 18:48:57 GMT', 'Server': 'nginx/1.14.0 (Ubuntu)', 'X-Ms-Request-Id': '19d8185e-f30e-4785-9b2b-113d2f33b8b9', 'X-Ms-Run-Function-Failed': 'True'}\n",
      "Content: b'Length mismatch: Expected axis has 8 elements, new values have 9 elements'\n",
      "\n"
     ]
    },
    {
     "name": "stdout",
     "output_type": "stream",
     "text": [
      "Endpoint: alpha-connor; Could not run.\n"
     ]
    },
    {
     "name": "stderr",
     "output_type": "stream",
     "text": [
      "Received bad response from service. More information can be found by calling `.get_logs()` on the webservice object.\n",
      "Response Code: 502\n",
      "Headers: {'Connection': 'keep-alive', 'Content-Length': '73', 'Content-Type': 'text/html; charset=utf-8', 'Date': 'Tue, 29 Mar 2022 18:49:02 GMT', 'Server': 'nginx/1.14.0 (Ubuntu)', 'X-Ms-Request-Id': 'c99d3f9a-6893-44c1-b58c-6eb6c881ce57', 'X-Ms-Run-Function-Failed': 'True'}\n",
      "Content: b'Length mismatch: Expected axis has 8 elements, new values have 9 elements'\n",
      "\n"
     ]
    },
    {
     "name": "stdout",
     "output_type": "stream",
     "text": [
      "Endpoint: connorsmodel-test; Could not run.\n"
     ]
    },
    {
     "name": "stderr",
     "output_type": "stream",
     "text": [
      "Received bad response from service. More information can be found by calling `.get_logs()` on the webservice object.\n",
      "Response Code: 502\n",
      "Headers: {'Connection': 'keep-alive', 'Content-Length': '73', 'Content-Type': 'text/html; charset=utf-8', 'Date': 'Tue, 29 Mar 2022 18:49:05 GMT', 'Server': 'nginx/1.14.0 (Ubuntu)', 'X-Ms-Request-Id': 'e7a04560-8da3-4a97-a4de-44e8cdbe71c9', 'X-Ms-Run-Function-Failed': 'True'}\n",
      "Content: b'Length mismatch: Expected axis has 8 elements, new values have 9 elements'\n",
      "\n"
     ]
    },
    {
     "name": "stdout",
     "output_type": "stream",
     "text": [
      "Endpoint: automl-gamma-sam; Could not run.\n",
      "Endpoint: mslearn-diabetes-automl-els; AUC: 0.9417317461520964\n"
     ]
    },
    {
     "name": "stderr",
     "output_type": "stream",
     "text": [
      "Received bad response from service. More information can be found by calling `.get_logs()` on the webservice object.\n",
      "Response Code: 502\n",
      "Headers: {'Connection': 'keep-alive', 'Content-Length': '73', 'Content-Type': 'text/html; charset=utf-8', 'Date': 'Tue, 29 Mar 2022 18:49:18 GMT', 'Server': 'nginx/1.14.0 (Ubuntu)', 'X-Ms-Request-Id': '2ead04d0-cd76-492b-9bae-c70352eb7b82', 'X-Ms-Run-Function-Failed': 'True'}\n",
      "Content: b'Length mismatch: Expected axis has 8 elements, new values have 9 elements'\n",
      "\n"
     ]
    },
    {
     "name": "stdout",
     "output_type": "stream",
     "text": [
      "Endpoint: beta-warsame-automl-rn-1; Could not run.\n"
     ]
    },
    {
     "name": "stderr",
     "output_type": "stream",
     "text": [
      "Received bad response from service. More information can be found by calling `.get_logs()` on the webservice object.\n",
      "Response Code: 502\n",
      "Headers: {'Connection': 'keep-alive', 'Content-Length': '73', 'Content-Type': 'text/html; charset=utf-8', 'Date': 'Tue, 29 Mar 2022 18:49:15 GMT', 'Server': 'nginx/1.14.0 (Ubuntu)', 'X-Ms-Request-Id': '98e06ad3-ad58-4a05-a847-1cad29ace3db', 'X-Ms-Run-Function-Failed': 'True'}\n",
      "Content: b'Length mismatch: Expected axis has 8 elements, new values have 9 elements'\n",
      "\n"
     ]
    },
    {
     "name": "stdout",
     "output_type": "stream",
     "text": [
      "Endpoint: delta-adeo3-bestmodel-automl; Could not run.\n"
     ]
    },
    {
     "name": "stderr",
     "output_type": "stream",
     "text": [
      "Received bad response from service. More information can be found by calling `.get_logs()` on the webservice object.\n",
      "Response Code: 502\n",
      "Headers: {'Connection': 'keep-alive', 'Content-Length': '73', 'Content-Type': 'text/html; charset=utf-8', 'Date': 'Tue, 29 Mar 2022 18:49:31 GMT', 'Server': 'nginx/1.14.0 (Ubuntu)', 'X-Ms-Request-Id': '453ddfda-2d4f-4f54-a264-7a48dda4abd1', 'X-Ms-Run-Function-Failed': 'True'}\n",
      "Content: b'Length mismatch: Expected axis has 8 elements, new values have 9 elements'\n",
      "\n"
     ]
    },
    {
     "name": "stdout",
     "output_type": "stream",
     "text": [
      "Endpoint: beta-jai-automl-0228-model1; Could not run.\n"
     ]
    },
    {
     "name": "stderr",
     "output_type": "stream",
     "text": [
      "Received bad response from service. More information can be found by calling `.get_logs()` on the webservice object.\n",
      "Response Code: 502\n",
      "Headers: {'Connection': 'keep-alive', 'Content-Length': '73', 'Content-Type': 'text/html; charset=utf-8', 'Date': 'Tue, 29 Mar 2022 18:49:57 GMT', 'Server': 'nginx/1.14.0 (Ubuntu)', 'X-Ms-Request-Id': '30c76484-c1df-416d-9c40-b6dc6d6e25b3', 'X-Ms-Run-Function-Failed': 'True'}\n",
      "Content: b'Length mismatch: Expected axis has 8 elements, new values have 9 elements'\n",
      "\n"
     ]
    },
    {
     "name": "stdout",
     "output_type": "stream",
     "text": [
      "Endpoint: beta-leti-automl-bestmodel; Could not run.\n"
     ]
    },
    {
     "name": "stderr",
     "output_type": "stream",
     "text": [
      "Received bad response from service. More information can be found by calling `.get_logs()` on the webservice object.\n",
      "Response Code: 502\n",
      "Headers: {'Connection': 'keep-alive', 'Content-Length': '73', 'Content-Type': 'text/html; charset=utf-8', 'Date': 'Tue, 29 Mar 2022 18:50:15 GMT', 'Server': 'nginx/1.14.0 (Ubuntu)', 'X-Ms-Request-Id': 'a98cba05-4f78-4ed4-9167-893fd07bb717', 'X-Ms-Run-Function-Failed': 'True'}\n",
      "Content: b'Length mismatch: Expected axis has 8 elements, new values have 9 elements'\n",
      "\n"
     ]
    },
    {
     "name": "stdout",
     "output_type": "stream",
     "text": [
      "Endpoint: harley-automlwinner-withkey; Could not run.\n"
     ]
    },
    {
     "name": "stderr",
     "output_type": "stream",
     "text": [
      "Received bad response from service. More information can be found by calling `.get_logs()` on the webservice object.\n",
      "Response Code: 502\n",
      "Headers: {'Connection': 'keep-alive', 'Content-Length': '73', 'Content-Type': 'text/html; charset=utf-8', 'Date': 'Tue, 29 Mar 2022 18:50:17 GMT', 'Server': 'nginx/1.14.0 (Ubuntu)', 'X-Ms-Request-Id': '6255b437-e4a7-4e45-ab5c-d8c8546d896c', 'X-Ms-Run-Function-Failed': 'True'}\n",
      "Content: b'Length mismatch: Expected axis has 8 elements, new values have 9 elements'\n",
      "\n"
     ]
    },
    {
     "name": "stdout",
     "output_type": "stream",
     "text": [
      "Endpoint: automl-gamma-jenny-diabetes-bm; Could not run.\n"
     ]
    },
    {
     "name": "stderr",
     "output_type": "stream",
     "text": [
      "Received bad response from service. More information can be found by calling `.get_logs()` on the webservice object.\n",
      "Response Code: 502\n",
      "Headers: {'Connection': 'keep-alive', 'Content-Length': '73', 'Content-Type': 'text/html; charset=utf-8', 'Date': 'Tue, 29 Mar 2022 18:50:15 GMT', 'Server': 'nginx/1.14.0 (Ubuntu)', 'X-Ms-Request-Id': '86875cb5-4480-4e40-801b-1e6b783ba0b9', 'X-Ms-Run-Function-Failed': 'True'}\n",
      "Content: b'Length mismatch: Expected axis has 8 elements, new values have 9 elements'\n",
      "\n"
     ]
    },
    {
     "name": "stdout",
     "output_type": "stream",
     "text": [
      "Endpoint: automl-gamma-jenny-diabetes2; Could not run.\n"
     ]
    },
    {
     "name": "stderr",
     "output_type": "stream",
     "text": [
      "Received bad response from service. More information can be found by calling `.get_logs()` on the webservice object.\n",
      "Response Code: 502\n",
      "Headers: {'Connection': 'keep-alive', 'Content-Length': '73', 'Content-Type': 'text/html; charset=utf-8', 'Date': 'Tue, 29 Mar 2022 18:50:25 GMT', 'Server': 'nginx/1.14.0 (Ubuntu)', 'X-Ms-Request-Id': 'df0fd1a4-920b-4102-8435-8c7500c5decc', 'X-Ms-Run-Function-Failed': 'True'}\n",
      "Content: b'Length mismatch: Expected axis has 8 elements, new values have 9 elements'\n",
      "\n"
     ]
    },
    {
     "name": "stdout",
     "output_type": "stream",
     "text": [
      "Endpoint: betajaiautomldeployed; Could not run.\n"
     ]
    },
    {
     "name": "stderr",
     "output_type": "stream",
     "text": [
      "Received bad response from service. More information can be found by calling `.get_logs()` on the webservice object.\n",
      "Response Code: 502\n",
      "Headers: {'Connection': 'keep-alive', 'Content-Length': '73', 'Content-Type': 'text/html; charset=utf-8', 'Date': 'Tue, 29 Mar 2022 18:50:29 GMT', 'Server': 'nginx/1.14.0 (Ubuntu)', 'X-Ms-Request-Id': '90ba51d2-0317-4c63-89dc-9689d99a5c13', 'X-Ms-Run-Function-Failed': 'True'}\n",
      "Content: b'Length mismatch: Expected axis has 8 elements, new values have 9 elements'\n",
      "\n"
     ]
    },
    {
     "name": "stdout",
     "output_type": "stream",
     "text": [
      "Endpoint: beta-jai-automldeploy1; Could not run.\n"
     ]
    },
    {
     "name": "stderr",
     "output_type": "stream",
     "text": [
      "Received bad response from service. More information can be found by calling `.get_logs()` on the webservice object.\n",
      "Response Code: 502\n",
      "Headers: {'Connection': 'keep-alive', 'Content-Length': '73', 'Content-Type': 'text/html; charset=utf-8', 'Date': 'Tue, 29 Mar 2022 18:50:31 GMT', 'Server': 'nginx/1.14.0 (Ubuntu)', 'X-Ms-Request-Id': 'b4ea1317-c14d-4061-875b-2852e6093aa3', 'X-Ms-Run-Function-Failed': 'True'}\n",
      "Content: b'Length mismatch: Expected axis has 8 elements, new values have 9 elements'\n",
      "\n"
     ]
    },
    {
     "name": "stdout",
     "output_type": "stream",
     "text": [
      "Endpoint: betasam; Could not run.\n"
     ]
    },
    {
     "name": "stderr",
     "output_type": "stream",
     "text": [
      "Received bad response from service. More information can be found by calling `.get_logs()` on the webservice object.\n",
      "Response Code: 502\n",
      "Headers: {'Connection': 'keep-alive', 'Content-Length': '73', 'Content-Type': 'text/html; charset=utf-8', 'Date': 'Tue, 29 Mar 2022 18:50:45 GMT', 'Server': 'nginx/1.14.0 (Ubuntu)', 'X-Ms-Request-Id': 'f1c35fb8-b9d8-4857-9405-7a5a5d81e4a8', 'X-Ms-Run-Function-Failed': 'True'}\n",
      "Content: b'Length mismatch: Expected axis has 8 elements, new values have 9 elements'\n",
      "\n"
     ]
    },
    {
     "name": "stdout",
     "output_type": "stream",
     "text": [
      "Endpoint: betasamautoml; Could not run.\n"
     ]
    },
    {
     "name": "stderr",
     "output_type": "stream",
     "text": [
      "Received bad response from service. More information can be found by calling `.get_logs()` on the webservice object.\n",
      "Response Code: 502\n",
      "Headers: {'Connection': 'keep-alive', 'Content-Length': '73', 'Content-Type': 'text/html; charset=utf-8', 'Date': 'Tue, 29 Mar 2022 18:50:49 GMT', 'Server': 'nginx/1.14.0 (Ubuntu)', 'X-Ms-Request-Id': 'cb9549b6-8813-4096-a426-da49fe01ccd4', 'X-Ms-Run-Function-Failed': 'True'}\n",
      "Content: b'Length mismatch: Expected axis has 8 elements, new values have 9 elements'\n",
      "\n"
     ]
    },
    {
     "name": "stdout",
     "output_type": "stream",
     "text": [
      "Endpoint: gamma-harley-automl; Could not run.\n"
     ]
    },
    {
     "name": "stderr",
     "output_type": "stream",
     "text": [
      "Received bad response from service. More information can be found by calling `.get_logs()` on the webservice object.\n",
      "Response Code: 502\n",
      "Headers: {'Connection': 'keep-alive', 'Content-Length': '73', 'Content-Type': 'text/html; charset=utf-8', 'Date': 'Tue, 29 Mar 2022 18:50:29 GMT', 'Server': 'nginx/1.14.0 (Ubuntu)', 'X-Ms-Request-Id': 'cb68d685-525f-4bad-ba5f-1b8cb77fc4f3', 'X-Ms-Run-Function-Failed': 'True'}\n",
      "Content: b'Length mismatch: Expected axis has 8 elements, new values have 9 elements'\n",
      "\n"
     ]
    },
    {
     "name": "stdout",
     "output_type": "stream",
     "text": [
      "Endpoint: diabetes-ydemir; Could not run.\n"
     ]
    }
   ],
   "source": [
    "for webservice_name in ws.webservices:\n",
    "    service = Webservice(ws, webservice_name)\n",
    "    try:\n",
    "        predictions = service.run(input_data = json.dumps(data))['Results']\n",
    "        fpr, tpr, thresholds = metrics.roc_curve(data_pd['Diabetic'].values, np.asarray(predictions), pos_label=1)\n",
    "        auc = metrics.auc(fpr, tpr)\n",
    "        print(f\"Endpoint: {webservice_name}; AUC: {auc}\")\n",
    "    except:\n",
    "        print(f\"Endpoint: {webservice_name}; Could not run.\")"
   ]
  },
  {
   "cell_type": "code",
   "execution_count": null,
   "id": "ddd21c0d",
   "metadata": {},
   "outputs": [],
   "source": []
  }
 ],
 "metadata": {
  "kernelspec": {
   "display_name": "Python 3.6 - AzureML",
   "language": "python",
   "name": "python3-azureml"
  },
  "language_info": {
   "codemirror_mode": {
    "name": "ipython",
    "version": 3
   },
   "file_extension": ".py",
   "mimetype": "text/x-python",
   "name": "python",
   "nbconvert_exporter": "python",
   "pygments_lexer": "ipython3",
   "version": "3.6.9"
  }
 },
 "nbformat": 4,
 "nbformat_minor": 5
}
